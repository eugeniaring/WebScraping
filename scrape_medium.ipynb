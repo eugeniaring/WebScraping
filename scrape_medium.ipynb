{
 "cells": [
  {
   "cell_type": "markdown",
   "metadata": {},
   "source": [
    "# Webscraping"
   ]
  },
  {
   "cell_type": "markdown",
   "metadata": {},
   "source": [
    "## 1: Import libraries"
   ]
  },
  {
   "cell_type": "code",
   "execution_count": 1,
   "metadata": {},
   "outputs": [
    {
     "name": "stdout",
     "output_type": "stream",
     "text": [
      "Requirement already satisfied: selenium in c:\\users\\nuovo\\anaconda3\\lib\\site-packages (3.141.0)\n",
      "Requirement already satisfied: urllib3 in c:\\users\\nuovo\\anaconda3\\lib\\site-packages (from selenium) (1.24.2)\n",
      "Note: you may need to restart the kernel to use updated packages.\n"
     ]
    }
   ],
   "source": [
    "pip install selenium"
   ]
  },
  {
   "cell_type": "code",
   "execution_count": 1,
   "metadata": {},
   "outputs": [],
   "source": [
    "from selenium import webdriver\n",
    "from selenium.webdriver.common.keys import Keys\n",
    "import pandas as pd"
   ]
  },
  {
   "cell_type": "markdown",
   "metadata": {},
   "source": [
    "## 2: Create istance of Chrome Webdriver"
   ]
  },
  {
   "cell_type": "code",
   "execution_count": 2,
   "metadata": {},
   "outputs": [],
   "source": [
    "driver = webdriver.Chrome(r\"C:\\Users\\nuovo\\Downloads\\chromedriver_win32\\chromedriver.exe\")"
   ]
  },
  {
   "cell_type": "code",
   "execution_count": 3,
   "metadata": {},
   "outputs": [],
   "source": [
    "def search_page(keywords):\n",
    "    keywords = keywords.split(' ')\n",
    "    return 'https://medium.com/search'+ '?q=' +keywords[0]+''.join(['%20'+k for k in keywords[1:]])"
   ]
  },
  {
   "cell_type": "code",
   "execution_count": 4,
   "metadata": {},
   "outputs": [
    {
     "name": "stdout",
     "output_type": "stream",
     "text": [
      "https://medium.com/search?q=neural%20networks\n"
     ]
    }
   ],
   "source": [
    "url=search_page('neural networks')\n",
    "print(url)"
   ]
  },
  {
   "cell_type": "code",
   "execution_count": 5,
   "metadata": {},
   "outputs": [],
   "source": [
    "driver.get(url)"
   ]
  },
  {
   "cell_type": "code",
   "execution_count": 6,
   "metadata": {},
   "outputs": [],
   "source": [
    "driver.execute_script(\"window.scrollTo(0,document.body.scrollHeight)\")"
   ]
  },
  {
   "cell_type": "markdown",
   "metadata": {},
   "source": [
    "## 3 scrap informations: date, title, subtitle, claps, responses, author_url, story_url "
   ]
  },
  {
   "cell_type": "code",
   "execution_count": 7,
   "metadata": {},
   "outputs": [],
   "source": [
    "#links\n",
    "links = driver.find_elements_by_xpath('//div[@class=\"postArticle-content\"]/a')"
   ]
  },
  {
   "cell_type": "code",
   "execution_count": 8,
   "metadata": {},
   "outputs": [
    {
     "name": "stdout",
     "output_type": "stream",
     "text": [
      "https://becominghuman.ai/cheat-sheets-for-ai-neural-networks-machine-learning-deep-learning-big-data-678c51b4b463?source=search_post---------0\n",
      "https://medium.com/@ageitgey/machine-learning-is-fun-part-3-deep-learning-and-convolutional-neural-networks-f40359318721?source=search_post---------1\n",
      "https://medium.com/the-theory-of-everything/understanding-activation-functions-in-neural-networks-9491262884e0?source=search_post---------2\n",
      "https://medium.com/emergent-future/simple-reinforcement-learning-with-tensorflow-part-0-q-learning-with-tables-and-neural-networks-d195264329d0?source=search_post---------3\n",
      "https://towardsdatascience.com/activation-functions-neural-networks-1cbd9f8d91d6?source=search_post---------4\n",
      "https://medium.com/technologymadeeasy/the-best-explanation-of-convolutional-neural-networks-on-the-internet-fbb8b1ad5df8?source=search_post---------5\n",
      "https://towardsdatascience.com/a-comprehensive-guide-to-convolutional-neural-networks-the-eli5-way-3bd2b1164a53?source=search_post---------6\n",
      "https://medium.com/free-code-camp/big-picture-machine-learning-classifying-text-with-neural-networks-and-tensorflow-d94036ac2274?source=search_post---------7\n",
      "https://towardsdatascience.com/gentle-dive-into-math-behind-convolutional-neural-networks-79a07dd44cf9?source=search_post---------8\n",
      "https://towardsdatascience.com/recurrent-neural-networks-by-example-in-python-ffd204f99470?source=search_post---------9\n",
      "https://medium.com/@ageitgey/machine-learning-is-fun-part-8-how-to-intentionally-trick-neural-networks-b55da32b7196?source=search_post\n",
      "https://towardsdatascience.com/the-mostly-complete-chart-of-neural-networks-explained-3fb6f2367464?source=search_post\n",
      "https://towardsdatascience.com/batch-normalization-in-neural-networks-1ac91516821c?source=search_post\n",
      "https://towardsdatascience.com/illustrated-guide-to-recurrent-neural-networks-79e5eb8049c9?source=search_post\n",
      "https://towardsdatascience.com/spiking-neural-networks-the-next-generation-of-machine-learning-84e167f4eb2b?source=search_post\n",
      "https://towardsdatascience.com/convolutional-neural-networks-from-the-ground-up-c67bb41454e1?source=search_post\n",
      "https://towardsdatascience.com/applied-deep-learning-part-4-convolutional-neural-networks-584bc134c1e2?source=search_post\n",
      "https://medium.com/datathings/neural-networks-and-backpropagation-explained-in-a-simple-way-f540a3611f5e?source=search_post\n",
      "https://medium.com/mlreview/a-guide-to-receptive-field-arithmetic-for-convolutional-neural-networks-e0f514068807?source=search_post\n",
      "https://towardsdatascience.com/audio-ai-isolating-vocals-from-stereo-music-using-convolutional-neural-networks-210532383785?source=search_post\n"
     ]
    }
   ],
   "source": [
    "for link in links:\n",
    "    print(link.get_property('href'))"
   ]
  },
  {
   "cell_type": "code",
   "execution_count": 9,
   "metadata": {},
   "outputs": [],
   "source": [
    "#title\n",
    "titles = driver.find_elements_by_xpath('//div[@class=\"section-content\"]/div/h3')"
   ]
  },
  {
   "cell_type": "code",
   "execution_count": 10,
   "metadata": {},
   "outputs": [
    {
     "name": "stdout",
     "output_type": "stream",
     "text": [
      "Cheat Sheets for AI, Neural Networks, Machine Learning, Deep Learning & Big Data\n",
      "Machine Learning is Fun! Part 3: Deep Learning and Convolutional Neural Networks\n",
      "Understanding Activation Functions in Neural Networks\n",
      "Simple Reinforcement Learning with Tensorflow Part 0: Q-Learning with Tables and Neural Networks\n",
      "Activation Functions in Neural Networks\n",
      "The best explanation of Convolutional Neural Networks on the Internet!\n",
      "A Comprehensive Guide to Convolutional Neural Networks — the ELI5 way\n",
      "Big Picture Machine Learning: Classifying Text with Neural Networks and TensorFlow\n",
      "Gentle Dive into Math Behind Convolutional Neural Networks\n",
      "Recurrent Neural Networks by Example in Python\n",
      "Machine Learning is Fun Part 8: How to Intentionally Trick Neural Networks\n",
      "The mostly complete chart of Neural Networks, explained\n",
      "Batch normalization in Neural Networks\n",
      "Illustrated Guide to Recurrent Neural Networks\n",
      "Spiking Neural Networks, the Next Generation of Machine Learning\n",
      "Convolutional Neural Networks from the ground up\n",
      "Applied Deep Learning - Part 4: Convolutional Neural Networks\n",
      "Overview\n",
      "Neural networks and back-propagation explained in a simple way\n",
      "A guide to receptive field arithmetic for Convolutional Neural Networks\n",
      "Audio AI: isolating vocals from stereo music using Convolutional Neural Networks\n"
     ]
    }
   ],
   "source": [
    "for t in titles:\n",
    "    print(t.text)"
   ]
  },
  {
   "cell_type": "code",
   "execution_count": 11,
   "metadata": {},
   "outputs": [],
   "source": [
    "#date\n",
    "dates = driver.find_elements_by_xpath('//div[@class=\"ui-caption u-fontSize12 u-baseColor--textNormal u-textColorNormal js-postMetaInlineSupplemental\"]/a/time')"
   ]
  },
  {
   "cell_type": "code",
   "execution_count": 12,
   "metadata": {},
   "outputs": [
    {
     "name": "stdout",
     "output_type": "stream",
     "text": [
      "Jul 9, 2017\n",
      "Jun 13, 2016\n",
      "Mar 30, 2017\n",
      "Aug 25, 2016\n",
      "Sep 6, 2017\n",
      "Jul 28, 2016\n",
      "Dec 15, 2018\n",
      "Apr 9, 2017\n",
      "Apr 12, 2019\n",
      "Nov 4, 2018\n",
      "Aug 16, 2017\n",
      "Aug 4, 2017\n",
      "Oct 20, 2017\n",
      "Sep 20, 2018\n",
      "Jan 11, 2018\n",
      "Jun 16, 2018\n",
      "Nov 8, 2017\n",
      "Feb 1, 2018\n",
      "Apr 5, 2017\n",
      "Feb 4, 2019\n"
     ]
    }
   ],
   "source": [
    "for d in dates:\n",
    "    print(d.text)"
   ]
  },
  {
   "cell_type": "code",
   "execution_count": 13,
   "metadata": {},
   "outputs": [],
   "source": [
    "# subtitles\n",
    "subtitles = driver.find_elements_by_xpath('//div[@class=\"section-content\"]/div/h4') "
   ]
  },
  {
   "cell_type": "code",
   "execution_count": 14,
   "metadata": {},
   "outputs": [
    {
     "name": "stdout",
     "output_type": "stream",
     "text": [
      "The Most Complete List of Best AI Cheat Sheets\n",
      "Sigmoid, tanh, Softmax, ReLU, Leaky ReLU EXPLAINED !!!\n",
      "Mysteries of Neural Networks Part V\n",
      "Using a Recurrent Neural Network to Write Patent…\n",
      "A Look into the Future of…\n",
      "Understanding the Intuition\n",
      "A NumPy implementation of the famed Convolutional…\n",
      "disclaimer: all…\n"
     ]
    }
   ],
   "source": [
    "for s in subtitles:\n",
    "    print(s.text)"
   ]
  },
  {
   "cell_type": "code",
   "execution_count": 15,
   "metadata": {},
   "outputs": [],
   "source": [
    "# claps\n",
    "claps = driver.find_elements_by_xpath('//span[@class=\"u-relative u-background js-actionMultirecommendCount u-marginLeft5\"]/button')"
   ]
  },
  {
   "cell_type": "code",
   "execution_count": 16,
   "metadata": {},
   "outputs": [
    {
     "name": "stdout",
     "output_type": "stream",
     "text": [
      "67K\n",
      "25K\n",
      "17.7K\n",
      "14.8K\n",
      "11.5K\n",
      "10.9K\n",
      "9.7K\n",
      "3.3K\n",
      "6.3K\n",
      "5.3K\n",
      "9.6K\n",
      "5.9K\n",
      "5.4K\n",
      "5.7K\n",
      "8.5K\n",
      "5.9K\n",
      "6.6K\n",
      "6.3K\n",
      "4.6K\n",
      "3.7K\n"
     ]
    }
   ],
   "source": [
    "for c in claps:\n",
    "    print(c.text)"
   ]
  },
  {
   "cell_type": "code",
   "execution_count": 17,
   "metadata": {},
   "outputs": [],
   "source": [
    "#responses\n",
    "responses = driver.find_elements_by_xpath('//div[@class=\"buttonSet u-floatRight\"]/a')"
   ]
  },
  {
   "cell_type": "code",
   "execution_count": 18,
   "metadata": {},
   "outputs": [
    {
     "name": "stdout",
     "output_type": "stream",
     "text": [
      "166 responses\n",
      "189 responses\n",
      "54 responses\n",
      "107 responses\n",
      "44 responses\n",
      "27 responses\n",
      "36 responses\n",
      "36 responses\n",
      "20 responses\n",
      "20 responses\n",
      "24 responses\n",
      "13 responses\n",
      "14 responses\n",
      "33 responses\n",
      "29 responses\n",
      "30 responses\n",
      "35 responses\n",
      "41 responses\n",
      "29 responses\n",
      "61 responses\n"
     ]
    }
   ],
   "source": [
    "for r in responses:\n",
    "    print(r.text)"
   ]
  },
  {
   "cell_type": "code",
   "execution_count": 19,
   "metadata": {},
   "outputs": [],
   "source": [
    "#author_urls\n",
    "author_urls=driver.find_elements_by_xpath('//div[@class=\"postMetaInline postMetaInline-authorLockup ui-captionStrong u-flex1 u-noWrapWithEllipsis\"]/a')"
   ]
  },
  {
   "cell_type": "code",
   "execution_count": 20,
   "metadata": {},
   "outputs": [
    {
     "name": "stdout",
     "output_type": "stream",
     "text": [
      "https://becominghuman.ai/@kojouharov?source=search_post---------0\n",
      "https://becominghuman.ai/?source=search_post---------0\n",
      "https://medium.com/@ageitgey?source=search_post---------1\n",
      "https://medium.com/@avinashsharmav91?source=search_post---------2\n",
      "https://medium.com/the-theory-of-everything?source=search_post---------2\n",
      "https://medium.com/@awjuliani?source=search_post---------3\n",
      "https://medium.com/emergent-future?source=search_post---------3\n",
      "https://towardsdatascience.com/@sagarsharma4244?source=search_post---------4\n",
      "https://towardsdatascience.com/?source=search_post---------4\n",
      "https://medium.com/@harshpokharna?source=search_post---------5\n",
      "https://medium.com/technologymadeeasy?source=search_post---------5\n",
      "https://towardsdatascience.com/@_sumitsaha_?source=search_post---------6\n",
      "https://towardsdatascience.com/?source=search_post---------6\n",
      "https://medium.com/@dehhmesquita?source=search_post---------7\n",
      "https://medium.com/free-code-camp?source=search_post---------7\n",
      "https://towardsdatascience.com/@piotr.skalski92?source=search_post---------8\n",
      "https://towardsdatascience.com/?source=search_post---------8\n",
      "https://towardsdatascience.com/@williamkoehrsen?source=search_post---------9\n",
      "https://towardsdatascience.com/?source=search_post---------9\n",
      "https://medium.com/@ageitgey?source=search_post\n",
      "https://towardsdatascience.com/@andrewtch?source=search_post\n",
      "https://towardsdatascience.com/?source=search_post\n",
      "https://towardsdatascience.com/@phidaouss?source=search_post\n",
      "https://towardsdatascience.com/?source=search_post\n",
      "https://towardsdatascience.com/@learnedvector?source=search_post\n",
      "https://towardsdatascience.com/?source=search_post\n",
      "https://towardsdatascience.com/@devins?source=search_post\n",
      "https://towardsdatascience.com/?source=search_post\n",
      "https://towardsdatascience.com/@alejandroescontrela?source=search_post\n",
      "https://towardsdatascience.com/?source=search_post\n",
      "https://towardsdatascience.com/@ardendertat?source=search_post\n",
      "https://towardsdatascience.com/?source=search_post\n",
      "https://medium.com/@assaad-moawad?source=search_post\n",
      "https://medium.com/datathings?source=search_post\n",
      "https://medium.com/@nikasa1889?source=search_post\n",
      "https://medium.com/mlreview?source=search_post\n",
      "https://towardsdatascience.com/@ale.koretzky?source=search_post\n",
      "https://towardsdatascience.com/?source=search_post\n"
     ]
    }
   ],
   "source": [
    "for a in author_urls:\n",
    "    print(a.get_property('href'))"
   ]
  },
  {
   "cell_type": "markdown",
   "metadata": {},
   "source": [
    "## 4: Create dataframe"
   ]
  },
  {
   "cell_type": "code",
   "execution_count": 21,
   "metadata": {},
   "outputs": [
    {
     "name": "stdout",
     "output_type": "stream",
     "text": [
      "20\n"
     ]
    }
   ],
   "source": [
    "each_story={'Date':[],'Title':[],'Claps':[],'Responses':[],'Story_url':[],'Author_url':[]}\n",
    "n = len(links)\n",
    "print(n)"
   ]
  },
  {
   "cell_type": "code",
   "execution_count": 22,
   "metadata": {},
   "outputs": [],
   "source": [
    "for i in range(n):\n",
    "    each_story['Date'].append(dates[i].text)\n",
    "    each_story['Title'].append(titles[i].text)\n",
    "    each_story['Claps'].append(claps[i].text)\n",
    "    each_story['Responses'].append(int(responses[i].text.replace('responses','')))\n",
    "    each_story['Story_url'].append(links[i].get_property('href'))\n",
    "    each_story['Author_url'].append(author_urls[i].get_property('href'))"
   ]
  },
  {
   "cell_type": "code",
   "execution_count": 23,
   "metadata": {},
   "outputs": [
    {
     "data": {
      "text/plain": [
       "{'Date': ['Jul 9, 2017',\n",
       "  'Jun 13, 2016',\n",
       "  'Mar 30, 2017',\n",
       "  'Aug 25, 2016',\n",
       "  'Sep 6, 2017',\n",
       "  'Jul 28, 2016',\n",
       "  'Dec 15, 2018',\n",
       "  'Apr 9, 2017',\n",
       "  'Apr 12, 2019',\n",
       "  'Nov 4, 2018',\n",
       "  'Aug 16, 2017',\n",
       "  'Aug 4, 2017',\n",
       "  'Oct 20, 2017',\n",
       "  'Sep 20, 2018',\n",
       "  'Jan 11, 2018',\n",
       "  'Jun 16, 2018',\n",
       "  'Nov 8, 2017',\n",
       "  'Feb 1, 2018',\n",
       "  'Apr 5, 2017',\n",
       "  'Feb 4, 2019'],\n",
       " 'Title': ['Cheat Sheets for AI, Neural Networks, Machine Learning, Deep Learning & Big Data',\n",
       "  'Machine Learning is Fun! Part 3: Deep Learning and Convolutional Neural Networks',\n",
       "  'Understanding Activation Functions in Neural Networks',\n",
       "  'Simple Reinforcement Learning with Tensorflow Part 0: Q-Learning with Tables and Neural Networks',\n",
       "  'Activation Functions in Neural Networks',\n",
       "  'The best explanation of Convolutional Neural Networks on the Internet!',\n",
       "  'A Comprehensive Guide to Convolutional Neural Networks\\u200a—\\u200athe ELI5 way',\n",
       "  'Big Picture Machine Learning: Classifying Text with Neural Networks and TensorFlow',\n",
       "  'Gentle Dive into Math Behind Convolutional Neural Networks',\n",
       "  'Recurrent Neural Networks by Example in Python',\n",
       "  'Machine Learning is Fun Part 8: How to Intentionally Trick Neural Networks',\n",
       "  'The mostly complete chart of Neural Networks, explained',\n",
       "  'Batch normalization in Neural Networks',\n",
       "  'Illustrated Guide to Recurrent Neural Networks',\n",
       "  'Spiking Neural Networks, the Next Generation of Machine Learning',\n",
       "  'Convolutional Neural Networks from the ground up',\n",
       "  'Applied Deep Learning - Part 4: Convolutional Neural Networks',\n",
       "  'Overview',\n",
       "  'Neural networks and back-propagation explained in a simple way',\n",
       "  'A guide to receptive field arithmetic for Convolutional Neural Networks'],\n",
       " 'Claps': ['67K',\n",
       "  '25K',\n",
       "  '17.7K',\n",
       "  '14.8K',\n",
       "  '11.5K',\n",
       "  '10.9K',\n",
       "  '9.7K',\n",
       "  '3.3K',\n",
       "  '6.3K',\n",
       "  '5.3K',\n",
       "  '9.6K',\n",
       "  '5.9K',\n",
       "  '5.4K',\n",
       "  '5.7K',\n",
       "  '8.5K',\n",
       "  '5.9K',\n",
       "  '6.6K',\n",
       "  '6.3K',\n",
       "  '4.6K',\n",
       "  '3.7K'],\n",
       " 'Responses': [166,\n",
       "  189,\n",
       "  54,\n",
       "  107,\n",
       "  44,\n",
       "  27,\n",
       "  36,\n",
       "  36,\n",
       "  20,\n",
       "  20,\n",
       "  24,\n",
       "  13,\n",
       "  14,\n",
       "  33,\n",
       "  29,\n",
       "  30,\n",
       "  35,\n",
       "  41,\n",
       "  29,\n",
       "  61],\n",
       " 'Story_url': ['https://becominghuman.ai/cheat-sheets-for-ai-neural-networks-machine-learning-deep-learning-big-data-678c51b4b463?source=search_post---------0',\n",
       "  'https://medium.com/@ageitgey/machine-learning-is-fun-part-3-deep-learning-and-convolutional-neural-networks-f40359318721?source=search_post---------1',\n",
       "  'https://medium.com/the-theory-of-everything/understanding-activation-functions-in-neural-networks-9491262884e0?source=search_post---------2',\n",
       "  'https://medium.com/emergent-future/simple-reinforcement-learning-with-tensorflow-part-0-q-learning-with-tables-and-neural-networks-d195264329d0?source=search_post---------3',\n",
       "  'https://towardsdatascience.com/activation-functions-neural-networks-1cbd9f8d91d6?source=search_post---------4',\n",
       "  'https://medium.com/technologymadeeasy/the-best-explanation-of-convolutional-neural-networks-on-the-internet-fbb8b1ad5df8?source=search_post---------5',\n",
       "  'https://towardsdatascience.com/a-comprehensive-guide-to-convolutional-neural-networks-the-eli5-way-3bd2b1164a53?source=search_post---------6',\n",
       "  'https://medium.com/free-code-camp/big-picture-machine-learning-classifying-text-with-neural-networks-and-tensorflow-d94036ac2274?source=search_post---------7',\n",
       "  'https://towardsdatascience.com/gentle-dive-into-math-behind-convolutional-neural-networks-79a07dd44cf9?source=search_post---------8',\n",
       "  'https://towardsdatascience.com/recurrent-neural-networks-by-example-in-python-ffd204f99470?source=search_post---------9',\n",
       "  'https://medium.com/@ageitgey/machine-learning-is-fun-part-8-how-to-intentionally-trick-neural-networks-b55da32b7196?source=search_post',\n",
       "  'https://towardsdatascience.com/the-mostly-complete-chart-of-neural-networks-explained-3fb6f2367464?source=search_post',\n",
       "  'https://towardsdatascience.com/batch-normalization-in-neural-networks-1ac91516821c?source=search_post',\n",
       "  'https://towardsdatascience.com/illustrated-guide-to-recurrent-neural-networks-79e5eb8049c9?source=search_post',\n",
       "  'https://towardsdatascience.com/spiking-neural-networks-the-next-generation-of-machine-learning-84e167f4eb2b?source=search_post',\n",
       "  'https://towardsdatascience.com/convolutional-neural-networks-from-the-ground-up-c67bb41454e1?source=search_post',\n",
       "  'https://towardsdatascience.com/applied-deep-learning-part-4-convolutional-neural-networks-584bc134c1e2?source=search_post',\n",
       "  'https://medium.com/datathings/neural-networks-and-backpropagation-explained-in-a-simple-way-f540a3611f5e?source=search_post',\n",
       "  'https://medium.com/mlreview/a-guide-to-receptive-field-arithmetic-for-convolutional-neural-networks-e0f514068807?source=search_post',\n",
       "  'https://towardsdatascience.com/audio-ai-isolating-vocals-from-stereo-music-using-convolutional-neural-networks-210532383785?source=search_post'],\n",
       " 'Author_url': ['https://becominghuman.ai/@kojouharov?source=search_post---------0',\n",
       "  'https://becominghuman.ai/?source=search_post---------0',\n",
       "  'https://medium.com/@ageitgey?source=search_post---------1',\n",
       "  'https://medium.com/@avinashsharmav91?source=search_post---------2',\n",
       "  'https://medium.com/the-theory-of-everything?source=search_post---------2',\n",
       "  'https://medium.com/@awjuliani?source=search_post---------3',\n",
       "  'https://medium.com/emergent-future?source=search_post---------3',\n",
       "  'https://towardsdatascience.com/@sagarsharma4244?source=search_post---------4',\n",
       "  'https://towardsdatascience.com/?source=search_post---------4',\n",
       "  'https://medium.com/@harshpokharna?source=search_post---------5',\n",
       "  'https://medium.com/technologymadeeasy?source=search_post---------5',\n",
       "  'https://towardsdatascience.com/@_sumitsaha_?source=search_post---------6',\n",
       "  'https://towardsdatascience.com/?source=search_post---------6',\n",
       "  'https://medium.com/@dehhmesquita?source=search_post---------7',\n",
       "  'https://medium.com/free-code-camp?source=search_post---------7',\n",
       "  'https://towardsdatascience.com/@piotr.skalski92?source=search_post---------8',\n",
       "  'https://towardsdatascience.com/?source=search_post---------8',\n",
       "  'https://towardsdatascience.com/@williamkoehrsen?source=search_post---------9',\n",
       "  'https://towardsdatascience.com/?source=search_post---------9',\n",
       "  'https://medium.com/@ageitgey?source=search_post']}"
      ]
     },
     "execution_count": 23,
     "metadata": {},
     "output_type": "execute_result"
    }
   ],
   "source": [
    "each_story"
   ]
  },
  {
   "cell_type": "code",
   "execution_count": 24,
   "metadata": {},
   "outputs": [],
   "source": [
    "df = pd.DataFrame(each_story)"
   ]
  },
  {
   "cell_type": "code",
   "execution_count": 25,
   "metadata": {},
   "outputs": [
    {
     "data": {
      "text/html": [
       "<div>\n",
       "<style scoped>\n",
       "    .dataframe tbody tr th:only-of-type {\n",
       "        vertical-align: middle;\n",
       "    }\n",
       "\n",
       "    .dataframe tbody tr th {\n",
       "        vertical-align: top;\n",
       "    }\n",
       "\n",
       "    .dataframe thead th {\n",
       "        text-align: right;\n",
       "    }\n",
       "</style>\n",
       "<table border=\"1\" class=\"dataframe\">\n",
       "  <thead>\n",
       "    <tr style=\"text-align: right;\">\n",
       "      <th></th>\n",
       "      <th>Date</th>\n",
       "      <th>Title</th>\n",
       "      <th>Claps</th>\n",
       "      <th>Responses</th>\n",
       "      <th>Story_url</th>\n",
       "      <th>Author_url</th>\n",
       "    </tr>\n",
       "  </thead>\n",
       "  <tbody>\n",
       "    <tr>\n",
       "      <td>0</td>\n",
       "      <td>Jul 9, 2017</td>\n",
       "      <td>Cheat Sheets for AI, Neural Networks, Machine ...</td>\n",
       "      <td>67K</td>\n",
       "      <td>166</td>\n",
       "      <td>https://becominghuman.ai/cheat-sheets-for-ai-n...</td>\n",
       "      <td>https://becominghuman.ai/@kojouharov?source=se...</td>\n",
       "    </tr>\n",
       "    <tr>\n",
       "      <td>1</td>\n",
       "      <td>Jun 13, 2016</td>\n",
       "      <td>Machine Learning is Fun! Part 3: Deep Learning...</td>\n",
       "      <td>25K</td>\n",
       "      <td>189</td>\n",
       "      <td>https://medium.com/@ageitgey/machine-learning-...</td>\n",
       "      <td>https://becominghuman.ai/?source=search_post--...</td>\n",
       "    </tr>\n",
       "    <tr>\n",
       "      <td>2</td>\n",
       "      <td>Mar 30, 2017</td>\n",
       "      <td>Understanding Activation Functions in Neural N...</td>\n",
       "      <td>17.7K</td>\n",
       "      <td>54</td>\n",
       "      <td>https://medium.com/the-theory-of-everything/un...</td>\n",
       "      <td>https://medium.com/@ageitgey?source=search_pos...</td>\n",
       "    </tr>\n",
       "    <tr>\n",
       "      <td>3</td>\n",
       "      <td>Aug 25, 2016</td>\n",
       "      <td>Simple Reinforcement Learning with Tensorflow ...</td>\n",
       "      <td>14.8K</td>\n",
       "      <td>107</td>\n",
       "      <td>https://medium.com/emergent-future/simple-rein...</td>\n",
       "      <td>https://medium.com/@avinashsharmav91?source=se...</td>\n",
       "    </tr>\n",
       "    <tr>\n",
       "      <td>4</td>\n",
       "      <td>Sep 6, 2017</td>\n",
       "      <td>Activation Functions in Neural Networks</td>\n",
       "      <td>11.5K</td>\n",
       "      <td>44</td>\n",
       "      <td>https://towardsdatascience.com/activation-func...</td>\n",
       "      <td>https://medium.com/the-theory-of-everything?so...</td>\n",
       "    </tr>\n",
       "  </tbody>\n",
       "</table>\n",
       "</div>"
      ],
      "text/plain": [
       "           Date                                              Title  Claps  \\\n",
       "0   Jul 9, 2017  Cheat Sheets for AI, Neural Networks, Machine ...    67K   \n",
       "1  Jun 13, 2016  Machine Learning is Fun! Part 3: Deep Learning...    25K   \n",
       "2  Mar 30, 2017  Understanding Activation Functions in Neural N...  17.7K   \n",
       "3  Aug 25, 2016  Simple Reinforcement Learning with Tensorflow ...  14.8K   \n",
       "4   Sep 6, 2017            Activation Functions in Neural Networks  11.5K   \n",
       "\n",
       "   Responses                                          Story_url  \\\n",
       "0        166  https://becominghuman.ai/cheat-sheets-for-ai-n...   \n",
       "1        189  https://medium.com/@ageitgey/machine-learning-...   \n",
       "2         54  https://medium.com/the-theory-of-everything/un...   \n",
       "3        107  https://medium.com/emergent-future/simple-rein...   \n",
       "4         44  https://towardsdatascience.com/activation-func...   \n",
       "\n",
       "                                          Author_url  \n",
       "0  https://becominghuman.ai/@kojouharov?source=se...  \n",
       "1  https://becominghuman.ai/?source=search_post--...  \n",
       "2  https://medium.com/@ageitgey?source=search_pos...  \n",
       "3  https://medium.com/@avinashsharmav91?source=se...  \n",
       "4  https://medium.com/the-theory-of-everything?so...  "
      ]
     },
     "execution_count": 25,
     "metadata": {},
     "output_type": "execute_result"
    }
   ],
   "source": [
    "df.head()"
   ]
  },
  {
   "cell_type": "code",
   "execution_count": 26,
   "metadata": {},
   "outputs": [],
   "source": [
    "df['Date']=pd.to_datetime(df['Date'])\n",
    "df = df.sort_values(by=\"Date\",ascending=False)"
   ]
  },
  {
   "cell_type": "code",
   "execution_count": 27,
   "metadata": {},
   "outputs": [
    {
     "data": {
      "text/html": [
       "<div>\n",
       "<style scoped>\n",
       "    .dataframe tbody tr th:only-of-type {\n",
       "        vertical-align: middle;\n",
       "    }\n",
       "\n",
       "    .dataframe tbody tr th {\n",
       "        vertical-align: top;\n",
       "    }\n",
       "\n",
       "    .dataframe thead th {\n",
       "        text-align: right;\n",
       "    }\n",
       "</style>\n",
       "<table border=\"1\" class=\"dataframe\">\n",
       "  <thead>\n",
       "    <tr style=\"text-align: right;\">\n",
       "      <th></th>\n",
       "      <th>Date</th>\n",
       "      <th>Title</th>\n",
       "      <th>Claps</th>\n",
       "      <th>Responses</th>\n",
       "      <th>Story_url</th>\n",
       "      <th>Author_url</th>\n",
       "    </tr>\n",
       "  </thead>\n",
       "  <tbody>\n",
       "    <tr>\n",
       "      <td>8</td>\n",
       "      <td>2019-04-12</td>\n",
       "      <td>Gentle Dive into Math Behind Convolutional Neu...</td>\n",
       "      <td>6.3K</td>\n",
       "      <td>20</td>\n",
       "      <td>https://towardsdatascience.com/gentle-dive-int...</td>\n",
       "      <td>https://towardsdatascience.com/?source=search_...</td>\n",
       "    </tr>\n",
       "    <tr>\n",
       "      <td>19</td>\n",
       "      <td>2019-02-04</td>\n",
       "      <td>A guide to receptive field arithmetic for Conv...</td>\n",
       "      <td>3.7K</td>\n",
       "      <td>61</td>\n",
       "      <td>https://towardsdatascience.com/audio-ai-isolat...</td>\n",
       "      <td>https://medium.com/@ageitgey?source=search_post</td>\n",
       "    </tr>\n",
       "    <tr>\n",
       "      <td>6</td>\n",
       "      <td>2018-12-15</td>\n",
       "      <td>A Comprehensive Guide to Convolutional Neural ...</td>\n",
       "      <td>9.7K</td>\n",
       "      <td>36</td>\n",
       "      <td>https://towardsdatascience.com/a-comprehensive...</td>\n",
       "      <td>https://medium.com/emergent-future?source=sear...</td>\n",
       "    </tr>\n",
       "    <tr>\n",
       "      <td>9</td>\n",
       "      <td>2018-11-04</td>\n",
       "      <td>Recurrent Neural Networks by Example in Python</td>\n",
       "      <td>5.3K</td>\n",
       "      <td>20</td>\n",
       "      <td>https://towardsdatascience.com/recurrent-neura...</td>\n",
       "      <td>https://medium.com/@harshpokharna?source=searc...</td>\n",
       "    </tr>\n",
       "    <tr>\n",
       "      <td>13</td>\n",
       "      <td>2018-09-20</td>\n",
       "      <td>Illustrated Guide to Recurrent Neural Networks</td>\n",
       "      <td>5.7K</td>\n",
       "      <td>33</td>\n",
       "      <td>https://towardsdatascience.com/illustrated-gui...</td>\n",
       "      <td>https://medium.com/@dehhmesquita?source=search...</td>\n",
       "    </tr>\n",
       "  </tbody>\n",
       "</table>\n",
       "</div>"
      ],
      "text/plain": [
       "         Date                                              Title Claps  \\\n",
       "8  2019-04-12  Gentle Dive into Math Behind Convolutional Neu...  6.3K   \n",
       "19 2019-02-04  A guide to receptive field arithmetic for Conv...  3.7K   \n",
       "6  2018-12-15  A Comprehensive Guide to Convolutional Neural ...  9.7K   \n",
       "9  2018-11-04     Recurrent Neural Networks by Example in Python  5.3K   \n",
       "13 2018-09-20     Illustrated Guide to Recurrent Neural Networks  5.7K   \n",
       "\n",
       "    Responses                                          Story_url  \\\n",
       "8          20  https://towardsdatascience.com/gentle-dive-int...   \n",
       "19         61  https://towardsdatascience.com/audio-ai-isolat...   \n",
       "6          36  https://towardsdatascience.com/a-comprehensive...   \n",
       "9          20  https://towardsdatascience.com/recurrent-neura...   \n",
       "13         33  https://towardsdatascience.com/illustrated-gui...   \n",
       "\n",
       "                                           Author_url  \n",
       "8   https://towardsdatascience.com/?source=search_...  \n",
       "19    https://medium.com/@ageitgey?source=search_post  \n",
       "6   https://medium.com/emergent-future?source=sear...  \n",
       "9   https://medium.com/@harshpokharna?source=searc...  \n",
       "13  https://medium.com/@dehhmesquita?source=search...  "
      ]
     },
     "execution_count": 27,
     "metadata": {},
     "output_type": "execute_result"
    }
   ],
   "source": [
    "df.head()"
   ]
  },
  {
   "cell_type": "code",
   "execution_count": 30,
   "metadata": {},
   "outputs": [],
   "source": [
    "df.to_csv('neuralnetworks_results.csv',sep='\\t')"
   ]
  },
  {
   "cell_type": "code",
   "execution_count": null,
   "metadata": {},
   "outputs": [],
   "source": []
  }
 ],
 "metadata": {
  "kernelspec": {
   "display_name": "Python 3",
   "language": "python",
   "name": "python3"
  },
  "language_info": {
   "codemirror_mode": {
    "name": "ipython",
    "version": 3
   },
   "file_extension": ".py",
   "mimetype": "text/x-python",
   "name": "python",
   "nbconvert_exporter": "python",
   "pygments_lexer": "ipython3",
   "version": "3.7.4"
  }
 },
 "nbformat": 4,
 "nbformat_minor": 4
}
